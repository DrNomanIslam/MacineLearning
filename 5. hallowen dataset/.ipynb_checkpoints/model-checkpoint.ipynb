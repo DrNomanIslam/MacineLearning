{
 "cells": [
  {
   "cell_type": "code",
   "execution_count": 43,
   "id": "81b8c0d3",
   "metadata": {},
   "outputs": [],
   "source": [
    "import pandas as pd"
   ]
  },
  {
   "cell_type": "code",
   "execution_count": 44,
   "id": "baaeaf13",
   "metadata": {},
   "outputs": [],
   "source": [
    "data = pd.read_csv('train.csv')"
   ]
  },
  {
   "cell_type": "code",
   "execution_count": 45,
   "id": "6a596426",
   "metadata": {},
   "outputs": [],
   "source": [
    "data.dropna(inplace=True)"
   ]
  },
  {
   "cell_type": "code",
   "execution_count": 46,
   "id": "ab6fc6b7",
   "metadata": {},
   "outputs": [
    {
     "data": {
      "text/html": [
       "<div>\n",
       "<style scoped>\n",
       "    .dataframe tbody tr th:only-of-type {\n",
       "        vertical-align: middle;\n",
       "    }\n",
       "\n",
       "    .dataframe tbody tr th {\n",
       "        vertical-align: top;\n",
       "    }\n",
       "\n",
       "    .dataframe thead th {\n",
       "        text-align: right;\n",
       "    }\n",
       "</style>\n",
       "<table border=\"1\" class=\"dataframe\">\n",
       "  <thead>\n",
       "    <tr style=\"text-align: right;\">\n",
       "      <th></th>\n",
       "      <th>Product_id</th>\n",
       "      <th>Stall_no</th>\n",
       "      <th>instock_date</th>\n",
       "      <th>Market_Category</th>\n",
       "      <th>Customer_name</th>\n",
       "      <th>Loyalty_customer</th>\n",
       "      <th>Product_Category</th>\n",
       "      <th>Grade</th>\n",
       "      <th>Demand</th>\n",
       "      <th>Discount_avail</th>\n",
       "      <th>charges_1</th>\n",
       "      <th>charges_2 (%)</th>\n",
       "      <th>Minimum_price</th>\n",
       "      <th>Maximum_price</th>\n",
       "      <th>Selling_Price</th>\n",
       "    </tr>\n",
       "  </thead>\n",
       "  <tbody>\n",
       "    <tr>\n",
       "      <th>0</th>\n",
       "      <td>BRAE2NF6JA5GUEXG</td>\n",
       "      <td>37.0</td>\n",
       "      <td>2015-08-22 18:36:12.000</td>\n",
       "      <td>2</td>\n",
       "      <td>Lillyann</td>\n",
       "      <td>Yes</td>\n",
       "      <td>Fashion</td>\n",
       "      <td>1</td>\n",
       "      <td>68</td>\n",
       "      <td>0.0</td>\n",
       "      <td>376.0</td>\n",
       "      <td>11.0</td>\n",
       "      <td>2983.0</td>\n",
       "      <td>4713.0</td>\n",
       "      <td>4185.947700</td>\n",
       "    </tr>\n",
       "    <tr>\n",
       "      <th>1</th>\n",
       "      <td>TUNE8SFB6RJN2HSD</td>\n",
       "      <td>38.0</td>\n",
       "      <td>2016-03-27 21:19:13.000</td>\n",
       "      <td>24</td>\n",
       "      <td>Klynn</td>\n",
       "      <td>Yes</td>\n",
       "      <td>Fashion</td>\n",
       "      <td>0</td>\n",
       "      <td>51</td>\n",
       "      <td>0.0</td>\n",
       "      <td>397.0</td>\n",
       "      <td>12.0</td>\n",
       "      <td>7495.0</td>\n",
       "      <td>10352.0</td>\n",
       "      <td>9271.490256</td>\n",
       "    </tr>\n",
       "    <tr>\n",
       "      <th>2</th>\n",
       "      <td>BRAEAR7WZPQGPBZU</td>\n",
       "      <td>9.0</td>\n",
       "      <td>2015-08-18 19:25:22.000</td>\n",
       "      <td>447</td>\n",
       "      <td>Ridge</td>\n",
       "      <td>Yes</td>\n",
       "      <td>Child_care</td>\n",
       "      <td>0</td>\n",
       "      <td>10</td>\n",
       "      <td>0.0</td>\n",
       "      <td>250.0</td>\n",
       "      <td>9.0</td>\n",
       "      <td>5752.0</td>\n",
       "      <td>7309.0</td>\n",
       "      <td>6785.701362</td>\n",
       "    </tr>\n",
       "    <tr>\n",
       "      <th>3</th>\n",
       "      <td>WATDZ2ZQ8JPDHCTJ</td>\n",
       "      <td>50.0</td>\n",
       "      <td>2016-03-28 21:53:01.000</td>\n",
       "      <td>23</td>\n",
       "      <td>Abran</td>\n",
       "      <td>Yes</td>\n",
       "      <td>Educational</td>\n",
       "      <td>2</td>\n",
       "      <td>48</td>\n",
       "      <td>0.0</td>\n",
       "      <td>144.0</td>\n",
       "      <td>13.0</td>\n",
       "      <td>5090.0</td>\n",
       "      <td>20814.0</td>\n",
       "      <td>13028.917824</td>\n",
       "    </tr>\n",
       "    <tr>\n",
       "      <th>4</th>\n",
       "      <td>JWSEBUKYQPMBZ3RK</td>\n",
       "      <td>7.0</td>\n",
       "      <td>2016-03-29 22:58:53.000</td>\n",
       "      <td>63</td>\n",
       "      <td>Dustyn</td>\n",
       "      <td>Yes</td>\n",
       "      <td>Repair</td>\n",
       "      <td>1</td>\n",
       "      <td>35</td>\n",
       "      <td>1.0</td>\n",
       "      <td>211.0</td>\n",
       "      <td>4.0</td>\n",
       "      <td>2430.0</td>\n",
       "      <td>9261.0</td>\n",
       "      <td>906.553935</td>\n",
       "    </tr>\n",
       "    <tr>\n",
       "      <th>...</th>\n",
       "      <td>...</td>\n",
       "      <td>...</td>\n",
       "      <td>...</td>\n",
       "      <td>...</td>\n",
       "      <td>...</td>\n",
       "      <td>...</td>\n",
       "      <td>...</td>\n",
       "      <td>...</td>\n",
       "      <td>...</td>\n",
       "      <td>...</td>\n",
       "      <td>...</td>\n",
       "      <td>...</td>\n",
       "      <td>...</td>\n",
       "      <td>...</td>\n",
       "      <td>...</td>\n",
       "    </tr>\n",
       "    <tr>\n",
       "      <th>6363</th>\n",
       "      <td>WATE7VE2D62VEKW8</td>\n",
       "      <td>17.0</td>\n",
       "      <td>2016-03-28 19:55:43.000</td>\n",
       "      <td>24</td>\n",
       "      <td>Marquell</td>\n",
       "      <td>Yes</td>\n",
       "      <td>Technology</td>\n",
       "      <td>0</td>\n",
       "      <td>47</td>\n",
       "      <td>0.0</td>\n",
       "      <td>614.0</td>\n",
       "      <td>10.0</td>\n",
       "      <td>8174.0</td>\n",
       "      <td>11266.0</td>\n",
       "      <td>10277.520192</td>\n",
       "    </tr>\n",
       "    <tr>\n",
       "      <th>6364</th>\n",
       "      <td>SHOEF9G8Z4ZXF6WE</td>\n",
       "      <td>21.0</td>\n",
       "      <td>2015-02-11 15:09:26.000</td>\n",
       "      <td>55</td>\n",
       "      <td>Theodore</td>\n",
       "      <td>Yes</td>\n",
       "      <td>Child_care</td>\n",
       "      <td>0</td>\n",
       "      <td>35</td>\n",
       "      <td>0.0</td>\n",
       "      <td>269.0</td>\n",
       "      <td>5.0</td>\n",
       "      <td>3564.0</td>\n",
       "      <td>4920.0</td>\n",
       "      <td>4501.837200</td>\n",
       "    </tr>\n",
       "    <tr>\n",
       "      <th>6365</th>\n",
       "      <td>PBXEB9ZQ7HHCFXYG</td>\n",
       "      <td>36.0</td>\n",
       "      <td>2015-11-19 17:29:21.000</td>\n",
       "      <td>358</td>\n",
       "      <td>Galen</td>\n",
       "      <td>No</td>\n",
       "      <td>Repair</td>\n",
       "      <td>3</td>\n",
       "      <td>29</td>\n",
       "      <td>0.0</td>\n",
       "      <td>283.0</td>\n",
       "      <td>3.0</td>\n",
       "      <td>5303.0</td>\n",
       "      <td>14614.0</td>\n",
       "      <td>10218.878775</td>\n",
       "    </tr>\n",
       "    <tr>\n",
       "      <th>6366</th>\n",
       "      <td>NKCEAGXHRYTNTMG7</td>\n",
       "      <td>27.0</td>\n",
       "      <td>2015-12-08 04:19:33.000</td>\n",
       "      <td>452</td>\n",
       "      <td>Posey</td>\n",
       "      <td>Yes</td>\n",
       "      <td>Repair</td>\n",
       "      <td>0</td>\n",
       "      <td>8</td>\n",
       "      <td>0.0</td>\n",
       "      <td>267.0</td>\n",
       "      <td>3.0</td>\n",
       "      <td>4334.0</td>\n",
       "      <td>5849.0</td>\n",
       "      <td>5359.493997</td>\n",
       "    </tr>\n",
       "    <tr>\n",
       "      <th>6367</th>\n",
       "      <td>CAGE53FSAFWZRHFF</td>\n",
       "      <td>11.0</td>\n",
       "      <td>2016-01-20 19:45:35.000</td>\n",
       "      <td>58</td>\n",
       "      <td>Cutler</td>\n",
       "      <td>Yes</td>\n",
       "      <td>Technology</td>\n",
       "      <td>0</td>\n",
       "      <td>94</td>\n",
       "      <td>0.0</td>\n",
       "      <td>614.0</td>\n",
       "      <td>7.0</td>\n",
       "      <td>3975.0</td>\n",
       "      <td>5383.0</td>\n",
       "      <td>5220.013568</td>\n",
       "    </tr>\n",
       "  </tbody>\n",
       "</table>\n",
       "<p>5397 rows × 15 columns</p>\n",
       "</div>"
      ],
      "text/plain": [
       "            Product_id  Stall_no             instock_date  Market_Category  \\\n",
       "0     BRAE2NF6JA5GUEXG      37.0  2015-08-22 18:36:12.000                2   \n",
       "1     TUNE8SFB6RJN2HSD      38.0  2016-03-27 21:19:13.000               24   \n",
       "2     BRAEAR7WZPQGPBZU       9.0  2015-08-18 19:25:22.000              447   \n",
       "3     WATDZ2ZQ8JPDHCTJ      50.0  2016-03-28 21:53:01.000               23   \n",
       "4     JWSEBUKYQPMBZ3RK       7.0  2016-03-29 22:58:53.000               63   \n",
       "...                ...       ...                      ...              ...   \n",
       "6363  WATE7VE2D62VEKW8      17.0  2016-03-28 19:55:43.000               24   \n",
       "6364  SHOEF9G8Z4ZXF6WE      21.0  2015-02-11 15:09:26.000               55   \n",
       "6365  PBXEB9ZQ7HHCFXYG      36.0  2015-11-19 17:29:21.000              358   \n",
       "6366  NKCEAGXHRYTNTMG7      27.0  2015-12-08 04:19:33.000              452   \n",
       "6367  CAGE53FSAFWZRHFF      11.0  2016-01-20 19:45:35.000               58   \n",
       "\n",
       "     Customer_name Loyalty_customer Product_Category  Grade  Demand  \\\n",
       "0         Lillyann              Yes          Fashion      1      68   \n",
       "1            Klynn              Yes          Fashion      0      51   \n",
       "2            Ridge              Yes       Child_care      0      10   \n",
       "3            Abran              Yes      Educational      2      48   \n",
       "4           Dustyn              Yes           Repair      1      35   \n",
       "...            ...              ...              ...    ...     ...   \n",
       "6363      Marquell              Yes       Technology      0      47   \n",
       "6364      Theodore              Yes       Child_care      0      35   \n",
       "6365         Galen              No            Repair      3      29   \n",
       "6366         Posey              Yes           Repair      0       8   \n",
       "6367        Cutler              Yes       Technology      0      94   \n",
       "\n",
       "      Discount_avail  charges_1  charges_2 (%)  Minimum_price  Maximum_price  \\\n",
       "0                0.0      376.0           11.0         2983.0         4713.0   \n",
       "1                0.0      397.0           12.0         7495.0        10352.0   \n",
       "2                0.0      250.0            9.0         5752.0         7309.0   \n",
       "3                0.0      144.0           13.0         5090.0        20814.0   \n",
       "4                1.0      211.0            4.0         2430.0         9261.0   \n",
       "...              ...        ...            ...            ...            ...   \n",
       "6363             0.0      614.0           10.0         8174.0        11266.0   \n",
       "6364             0.0      269.0            5.0         3564.0         4920.0   \n",
       "6365             0.0      283.0            3.0         5303.0        14614.0   \n",
       "6366             0.0      267.0            3.0         4334.0         5849.0   \n",
       "6367             0.0      614.0            7.0         3975.0         5383.0   \n",
       "\n",
       "      Selling_Price  \n",
       "0       4185.947700  \n",
       "1       9271.490256  \n",
       "2       6785.701362  \n",
       "3      13028.917824  \n",
       "4        906.553935  \n",
       "...             ...  \n",
       "6363   10277.520192  \n",
       "6364    4501.837200  \n",
       "6365   10218.878775  \n",
       "6366    5359.493997  \n",
       "6367    5220.013568  \n",
       "\n",
       "[5397 rows x 15 columns]"
      ]
     },
     "execution_count": 46,
     "metadata": {},
     "output_type": "execute_result"
    }
   ],
   "source": [
    "data"
   ]
  },
  {
   "cell_type": "code",
   "execution_count": 47,
   "id": "9c49149e",
   "metadata": {},
   "outputs": [
    {
     "name": "stderr",
     "output_type": "stream",
     "text": [
      "C:\\Users\\COMPUT~1\\AppData\\Local\\Temp/ipykernel_10556/1817638909.py:2: FutureWarning: casting datetime64[ns] values to int64 with .astype(...) is deprecated and will raise in a future version. Use .view(...) instead.\n",
      "  data['instock'] = pd.to_datetime(data['instock_date']).astype(np.int64)\n"
     ]
    }
   ],
   "source": [
    "import numpy as np\n",
    "data['instock'] = pd.to_datetime(data['instock_date']).astype(np.int64)"
   ]
  },
  {
   "cell_type": "code",
   "execution_count": 52,
   "id": "05e8cdfe",
   "metadata": {},
   "outputs": [],
   "source": [
    "columns = [\n",
    "        'Market_Category','Loyalty_customer','Product_Category','Grade','Demand', 'Discount_avail', 'charges_1', 'charges_2 (%)',\n",
    "       'Minimum_price', 'Maximum_price']"
   ]
  },
  {
   "cell_type": "code",
   "execution_count": 49,
   "id": "79e5c116",
   "metadata": {},
   "outputs": [],
   "source": [
    "from sklearn import preprocessing\n",
    "data['Loyalty_customer']= preprocessing.LabelEncoder().fit_transform(data['Loyalty_customer'])"
   ]
  },
  {
   "cell_type": "code",
   "execution_count": 50,
   "id": "147d9e10",
   "metadata": {},
   "outputs": [],
   "source": [
    "from sklearn import preprocessing\n",
    "data['Product_Category']= preprocessing.LabelEncoder().fit_transform(data['Product_Category'])"
   ]
  },
  {
   "cell_type": "code",
   "execution_count": 53,
   "id": "6679c2a8",
   "metadata": {},
   "outputs": [],
   "source": [
    "X = data[columns]"
   ]
  },
  {
   "cell_type": "code",
   "execution_count": 54,
   "id": "6d952079",
   "metadata": {},
   "outputs": [],
   "source": [
    "Y = data['Selling_Price']"
   ]
  },
  {
   "cell_type": "code",
   "execution_count": 58,
   "id": "6ea77593",
   "metadata": {},
   "outputs": [],
   "source": [
    "from sklearn.model_selection import train_test_split"
   ]
  },
  {
   "cell_type": "code",
   "execution_count": 68,
   "id": "d750315c",
   "metadata": {},
   "outputs": [],
   "source": [
    "X_train, X_test, Y_train, Y_test = train_test_split(X,Y, test_size=0.3, random_state=5)"
   ]
  },
  {
   "cell_type": "code",
   "execution_count": 69,
   "id": "daa69476",
   "metadata": {},
   "outputs": [],
   "source": [
    "from sklearn.svm import SVR"
   ]
  },
  {
   "cell_type": "code",
   "execution_count": 70,
   "id": "4622c7ac",
   "metadata": {},
   "outputs": [],
   "source": [
    "classifier = SVR()"
   ]
  },
  {
   "cell_type": "code",
   "execution_count": 71,
   "id": "178c607e",
   "metadata": {},
   "outputs": [
    {
     "data": {
      "text/plain": [
       "SVR()"
      ]
     },
     "execution_count": 71,
     "metadata": {},
     "output_type": "execute_result"
    }
   ],
   "source": [
    "classifier.fit(X_train,Y_train)"
   ]
  },
  {
   "cell_type": "code",
   "execution_count": 72,
   "id": "22a3aee8",
   "metadata": {},
   "outputs": [],
   "source": [
    "Y_pred = classifier.predict(X_test)"
   ]
  },
  {
   "cell_type": "code",
   "execution_count": 73,
   "id": "dd02f1e6",
   "metadata": {},
   "outputs": [],
   "source": [
    "from sklearn.metrics import mean_absolute_error"
   ]
  },
  {
   "cell_type": "code",
   "execution_count": 78,
   "id": "f5d56a12",
   "metadata": {},
   "outputs": [
    {
     "name": "stdout",
     "output_type": "stream",
     "text": [
      "2086.5088203278883\n"
     ]
    }
   ],
   "source": [
    "MAE = mean_absolute_error(Y_test, Y_pred)\n",
    "print(MAE)"
   ]
  },
  {
   "cell_type": "code",
   "execution_count": null,
   "id": "67c99b60",
   "metadata": {},
   "outputs": [],
   "source": []
  }
 ],
 "metadata": {
  "kernelspec": {
   "display_name": "Python 3 (ipykernel)",
   "language": "python",
   "name": "python3"
  },
  "language_info": {
   "codemirror_mode": {
    "name": "ipython",
    "version": 3
   },
   "file_extension": ".py",
   "mimetype": "text/x-python",
   "name": "python",
   "nbconvert_exporter": "python",
   "pygments_lexer": "ipython3",
   "version": "3.9.7"
  }
 },
 "nbformat": 4,
 "nbformat_minor": 5
}
